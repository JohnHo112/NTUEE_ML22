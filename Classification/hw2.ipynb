{
  "cells": [
    {
      "cell_type": "markdown",
      "metadata": {
        "id": "OYlaRwNu7ojq"
      },
      "source": [
        "# **Homework 2: Phoneme Classification**\n"
      ]
    },
    {
      "cell_type": "markdown",
      "metadata": {
        "id": "A7DRC5V7_8A5"
      },
      "source": [
        "Objectives:\n",
        "* Solve a classification problem with deep neural networks (DNNs).\n",
        "* Understand recursive neural networks (RNNs).\n",
        "\n",
        "If you have any questions, please contact the TAs via TA hours, NTU COOL, or email to mlta-2023-spring@googlegroups.com"
      ]
    },
    {
      "cell_type": "markdown",
      "metadata": {
        "id": "KVUGfWTo7_Oj"
      },
      "source": [
        "# Download Data\n",
        "Download data from google drive, then unzip it.\n",
        "\n",
        "You should have\n",
        "- `libriphone/train_split.txt`: training metadata\n",
        "- `libriphone/train_labels`: training labels\n",
        "- `libriphone/test_split.txt`: testing metadata\n",
        "- `libriphone/feat/train/*.pt`: training feature\n",
        "- `libriphone/feat/test/*.pt`:  testing feature\n",
        "\n",
        "after running the following block.\n",
        "\n",
        "> **Notes: if the google drive link is dead, you can download the data directly from [Kaggle](https://www.kaggle.com/c/ml2023spring-hw2/data) and upload it to the workspace.**\n"
      ]
    },
    {
      "cell_type": "code",
      "execution_count": 1,
      "metadata": {
        "id": "OzkiMEcC3Foq"
      },
      "outputs": [],
      "source": [
        "!pip install --upgrade gdown\n",
        "\n",
        "# Main link\n",
        "# !gdown --id '1N1eVIDe9hKM5uiNRGmifBlwSDGiVXPJe' --output libriphone.zip\n",
        "!gdown --id '1qzCRnywKh30mTbWUEjXuNT2isOCAPdO1' --output libriphone.zip\n",
        "\n",
        "!unzip -q libriphone.zip\n",
        "!ls libriphone"
      ]
    },
    {
      "cell_type": "markdown",
      "metadata": {
        "id": "pADUiYODJE1O"
      },
      "source": [
        "# Some Utility Functions\n",
        "**Fixes random number generator seeds for reproducibility.**"
      ]
    },
    {
      "cell_type": "code",
      "execution_count": 2,
      "metadata": {
        "id": "BsZKgBZQJjaE"
      },
      "outputs": [],
      "source": [
        "import numpy as np\n",
        "import torch\n",
        "import random\n",
        "\n",
        "def same_seeds(seed):\n",
        "    random.seed(seed) \n",
        "    np.random.seed(seed)  \n",
        "    torch.manual_seed(seed)\n",
        "    if torch.cuda.is_available():\n",
        "        torch.cuda.manual_seed(seed)\n",
        "        torch.cuda.manual_seed_all(seed) \n",
        "    torch.backends.cudnn.benchmark = False\n",
        "    torch.backends.cudnn.deterministic = True"
      ]
    },
    {
      "cell_type": "markdown",
      "metadata": {
        "id": "_L_4anls8Drv"
      },
      "source": [
        "**Helper functions to pre-process the training data from raw MFCC features of each utterance.**\n",
        "\n",
        "A phoneme may span several frames and is dependent to past and future frames. \\\n",
        "Hence we concatenate neighboring phonemes for training to achieve higher accuracy. The **concat_feat** function concatenates past and future k frames (total 2k+1 = n frames), and we predict the center frame.\n",
        "\n",
        "Feel free to modify the data preprocess functions, but **do not drop any frame** (if you modify the functions, remember to check that the number of frames are the same as mentioned in the slides)"
      ]
    },
    {
      "cell_type": "code",
      "execution_count": 3,
      "metadata": {
        "id": "IJjLT8em-y9G"
      },
      "outputs": [],
      "source": [
        "import os\n",
        "import torch\n",
        "from tqdm import tqdm\n",
        "\n",
        "def load_feat(path):\n",
        "    feat = torch.load(path)\n",
        "    return feat\n",
        "\n",
        "def shift(x, n):\n",
        "    if n < 0:\n",
        "        left = x[0].repeat(-n, 1)\n",
        "        right = x[:n]\n",
        "    elif n > 0:\n",
        "        right = x[-1].repeat(n, 1)\n",
        "        left = x[n:]\n",
        "    else:\n",
        "        return x\n",
        "\n",
        "    return torch.cat((left, right), dim=0)\n",
        "\n",
        "def concat_feat(x, concat_n):\n",
        "    assert concat_n % 2 == 1 # n must be odd\n",
        "    if concat_n < 2:\n",
        "        return x\n",
        "    seq_len, feature_dim = x.size(0), x.size(1)\n",
        "    x = x.repeat(1, concat_n) \n",
        "    x = x.view(seq_len, concat_n, feature_dim).permute(1, 0, 2) # concat_n, seq_len, feature_dim\n",
        "    mid = (concat_n // 2)\n",
        "    for r_idx in range(1, mid+1):\n",
        "        x[mid + r_idx, :] = shift(x[mid + r_idx], r_idx)\n",
        "        x[mid - r_idx, :] = shift(x[mid - r_idx], -r_idx)\n",
        "\n",
        "    return x.permute(1, 0, 2).view(seq_len, concat_n * feature_dim)\n",
        "\n",
        "def preprocess_data(split, feat_dir, phone_path, concat_nframes, train_ratio=0.8, random_seed=1213):\n",
        "    class_num = 41 # NOTE: pre-computed, should not need change\n",
        "\n",
        "    if split == 'train' or split == 'val':\n",
        "        mode = 'train'\n",
        "    elif split == 'test':\n",
        "        mode = 'test'\n",
        "    else:\n",
        "        raise ValueError('Invalid \\'split\\' argument for dataset: PhoneDataset!')\n",
        "\n",
        "    label_dict = {}\n",
        "    if mode == 'train':\n",
        "        for line in open(os.path.join(phone_path, f'{mode}_labels.txt')).readlines():\n",
        "            line = line.strip('\\n').split(' ')\n",
        "            label_dict[line[0]] = [int(p) for p in line[1:]]\n",
        "        \n",
        "        # split training and validation data\n",
        "        usage_list = open(os.path.join(phone_path, 'train_split.txt')).readlines()\n",
        "        random.seed(random_seed)\n",
        "        random.shuffle(usage_list)\n",
        "        train_len = int(len(usage_list) * train_ratio)\n",
        "        usage_list = usage_list[:train_len] if split == 'train' else usage_list[train_len:]\n",
        "\n",
        "    elif mode == 'test':\n",
        "        usage_list = open(os.path.join(phone_path, 'test_split.txt')).readlines()\n",
        "\n",
        "    usage_list = [line.strip('\\n') for line in usage_list]\n",
        "    print('[Dataset] - # phone classes: ' + str(class_num) + ', number of utterances for ' + split + ': ' + str(len(usage_list)))\n",
        "\n",
        "    max_len = 3000000\n",
        "    X = torch.empty(max_len, 39 * concat_nframes)\n",
        "    if mode == 'train':\n",
        "        y = torch.empty(max_len, dtype=torch.long)\n",
        "\n",
        "    idx = 0\n",
        "    for i, fname in tqdm(enumerate(usage_list)):\n",
        "        feat = load_feat(os.path.join(feat_dir, mode, f'{fname}.pt'))\n",
        "        cur_len = len(feat)\n",
        "        feat = concat_feat(feat, concat_nframes)\n",
        "        if mode == 'train':\n",
        "          label = torch.LongTensor(label_dict[fname])\n",
        "\n",
        "        X[idx: idx + cur_len, :] = feat\n",
        "        if mode == 'train':\n",
        "          y[idx: idx + cur_len] = label\n",
        "\n",
        "        idx += cur_len\n",
        "\n",
        "    X = X[:idx, :]\n",
        "    if mode == 'train':\n",
        "      y = y[:idx]\n",
        "\n",
        "    print(f'[INFO] {split} set')\n",
        "    print(X.shape)\n",
        "    if mode == 'train':\n",
        "      print(y.shape)\n",
        "      return X, y\n",
        "    else:\n",
        "      return X\n"
      ]
    },
    {
      "cell_type": "markdown",
      "metadata": {
        "id": "us5XW_x6udZQ"
      },
      "source": [
        "# Dataset"
      ]
    },
    {
      "cell_type": "code",
      "execution_count": 4,
      "metadata": {
        "id": "Fjf5EcmJtf4e"
      },
      "outputs": [],
      "source": [
        "import torch\n",
        "from torch.utils.data import Dataset\n",
        "\n",
        "class LibriDataset(Dataset):\n",
        "    def __init__(self, X, y=None):\n",
        "        self.data = X\n",
        "        if y is not None:\n",
        "            self.label = torch.LongTensor(y)\n",
        "        else:\n",
        "            self.label = None\n",
        "\n",
        "    def __getitem__(self, idx):\n",
        "        if self.label is not None:\n",
        "            return self.data[idx], self.label[idx]\n",
        "        else:\n",
        "            return self.data[idx]\n",
        "\n",
        "    def __len__(self):\n",
        "        return len(self.data)\n"
      ]
    },
    {
      "cell_type": "markdown",
      "metadata": {
        "id": "IRqKNvNZwe3V"
      },
      "source": [
        "# Model\n",
        "Feel free to modify the structure of the model."
      ]
    },
    {
      "cell_type": "code",
      "execution_count": 5,
      "metadata": {
        "id": "Bg-GRd7ywdrL"
      },
      "outputs": [],
      "source": [
        "import torch.nn as nn\n",
        "\n",
        "class BasicBlock(nn.Module):\n",
        "    def __init__(self, input_dim, output_dim):\n",
        "        super(BasicBlock, self).__init__()\n",
        "\n",
        "        # TODO: apply batch normalization and dropout for strong baseline.\n",
        "        # Reference: https://pytorch.org/docs/stable/generated/torch.nn.BatchNorm1d.html (batch normalization)\n",
        "        #       https://pytorch.org/docs/stable/generated/torch.nn.Dropout.html (dropout)\n",
        "        self.block = nn.Sequential(\n",
        "            nn.Linear(input_dim, output_dim),\n",
        "            nn.Dropout(p=0.2),\n",
        "            nn.BatchNorm1d(output_dim),\n",
        "            nn.ReLU(),\n",
        "        )\n",
        "\n",
        "    def forward(self, x):\n",
        "        x = self.block(x)\n",
        "        return x\n",
        "\n",
        "\n",
        "class Classifier(nn.Module):\n",
        "    def __init__(self, input_dim, output_dim=41, hidden_layers=1, hidden_dim=256):\n",
        "        super(Classifier, self).__init__()\n",
        "\n",
        "        self.fc = nn.Sequential(\n",
        "            BasicBlock(input_dim, hidden_dim),\n",
        "            *[BasicBlock(hidden_dim, hidden_dim) for _ in range(hidden_layers)],\n",
        "            nn.Linear(hidden_dim, output_dim)\n",
        "        )\n",
        "\n",
        "    def forward(self, x):\n",
        "        x = self.fc(x)\n",
        "        return x"
      ]
    },
    {
      "cell_type": "markdown",
      "metadata": {
        "id": "TlIq8JeqvvHC"
      },
      "source": [
        "# Hyper-parameters"
      ]
    },
    {
      "cell_type": "code",
      "execution_count": 6,
      "metadata": {
        "id": "iIHn79Iav1ri"
      },
      "outputs": [],
      "source": [
        "# data prarameters\n",
        "# TODO: change the value of \"concat_nframes\" for medium baseline\n",
        "concat_nframes = 25   # the number of frames to concat with, n must be odd (total 2k+1 = n frames)\n",
        "train_ratio = 0.75   # the ratio of data used for training, the rest will be used for validation\n",
        "\n",
        "# training parameters\n",
        "seed = 1213          # random seed\n",
        "batch_size = 256        # batch size\n",
        "num_epoch = 100       # the number of training epoch\n",
        "learning_rate = 1e-4      # learning rate\n",
        "model_path = './model.ckpt'  # the path where the checkpoint will be saved\n",
        "\n",
        "# model parameters\n",
        "# TODO: change the value of \"hidden_layers\" or \"hidden_dim\" for medium baseline\n",
        "input_dim = 39 * concat_nframes  # the input dim of the model, you should not change the value\n",
        "hidden_layers = 10          # the number of hidden layers\n",
        "hidden_dim = 1024           # the hidden dim"
      ]
    },
    {
      "cell_type": "markdown",
      "metadata": {
        "id": "IIUFRgG5yoDn"
      },
      "source": [
        "# Dataloader"
      ]
    },
    {
      "cell_type": "code",
      "execution_count": 7,
      "metadata": {
        "id": "c1zI3v5jyrDn"
      },
      "outputs": [
        {
          "name": "stdout",
          "output_type": "stream",
          "text": [
            "DEVICE: cuda\n",
            "[Dataset] - # phone classes: 41, number of utterances for train: 2571\n"
          ]
        },
        {
          "name": "stderr",
          "output_type": "stream",
          "text": [
            "2571it [00:26, 95.91it/s] \n"
          ]
        },
        {
          "name": "stdout",
          "output_type": "stream",
          "text": [
            "[INFO] train set\n",
            "torch.Size([1588590, 975])\n",
            "torch.Size([1588590])\n",
            "[Dataset] - # phone classes: 41, number of utterances for val: 858\n"
          ]
        },
        {
          "name": "stderr",
          "output_type": "stream",
          "text": [
            "858it [00:09, 86.26it/s] \n"
          ]
        },
        {
          "name": "stdout",
          "output_type": "stream",
          "text": [
            "[INFO] val set\n",
            "torch.Size([528204, 975])\n",
            "torch.Size([528204])\n"
          ]
        }
      ],
      "source": [
        "from torch.utils.data import DataLoader\n",
        "import gc\n",
        "\n",
        "same_seeds(seed)\n",
        "device = 'cuda' if torch.cuda.is_available() else 'cpu'\n",
        "print(f'DEVICE: {device}')\n",
        "\n",
        "# preprocess data\n",
        "train_X, train_y = preprocess_data(split='train', feat_dir='./libriphone/feat', phone_path='./libriphone', concat_nframes=concat_nframes, train_ratio=train_ratio, random_seed=seed)\n",
        "val_X, val_y = preprocess_data(split='val', feat_dir='./libriphone/feat', phone_path='./libriphone', concat_nframes=concat_nframes, train_ratio=train_ratio, random_seed=seed)\n",
        "\n",
        "# get dataset\n",
        "train_set = LibriDataset(train_X, train_y)\n",
        "val_set = LibriDataset(val_X, val_y)\n",
        "\n",
        "# remove raw feature to save memory\n",
        "del train_X, train_y, val_X, val_y\n",
        "gc.collect()\n",
        "\n",
        "# get dataloader\n",
        "train_loader = DataLoader(train_set, batch_size=batch_size, shuffle=True)\n",
        "val_loader = DataLoader(val_set, batch_size=batch_size, shuffle=False)"
      ]
    },
    {
      "cell_type": "markdown",
      "metadata": {
        "id": "pwWH1KIqzxEr"
      },
      "source": [
        "# Training"
      ]
    },
    {
      "cell_type": "code",
      "execution_count": 8,
      "metadata": {
        "id": "CdMWsBs7zzNs"
      },
      "outputs": [
        {
          "name": "stderr",
          "output_type": "stream",
          "text": [
            "100%|██████████| 6206/6206 [01:26<00:00, 72.00it/s]\n",
            "100%|██████████| 2064/2064 [00:07<00:00, 260.08it/s]\n"
          ]
        },
        {
          "name": "stdout",
          "output_type": "stream",
          "text": [
            "[001/100] Train Acc: 0.54126 Loss: 1.53526 | Val Acc: 0.63494 loss: 1.20259\n",
            "saving model with acc 0.63494\n"
          ]
        },
        {
          "name": "stderr",
          "output_type": "stream",
          "text": [
            "100%|██████████| 6206/6206 [01:18<00:00, 78.59it/s]\n",
            "100%|██████████| 2064/2064 [00:07<00:00, 268.37it/s]\n"
          ]
        },
        {
          "name": "stdout",
          "output_type": "stream",
          "text": [
            "[002/100] Train Acc: 0.63207 Loss: 1.19612 | Val Acc: 0.66814 loss: 1.09793\n",
            "saving model with acc 0.66814\n"
          ]
        },
        {
          "name": "stderr",
          "output_type": "stream",
          "text": [
            "100%|██████████| 6206/6206 [01:17<00:00, 80.52it/s]\n",
            "100%|██████████| 2064/2064 [00:08<00:00, 257.00it/s]\n"
          ]
        },
        {
          "name": "stdout",
          "output_type": "stream",
          "text": [
            "[003/100] Train Acc: 0.66157 Loss: 1.08990 | Val Acc: 0.68557 loss: 1.04167\n",
            "saving model with acc 0.68557\n"
          ]
        },
        {
          "name": "stderr",
          "output_type": "stream",
          "text": [
            "100%|██████████| 6206/6206 [01:14<00:00, 82.99it/s]\n",
            "100%|██████████| 2064/2064 [00:07<00:00, 264.85it/s]\n"
          ]
        },
        {
          "name": "stdout",
          "output_type": "stream",
          "text": [
            "[004/100] Train Acc: 0.68113 Loss: 1.02307 | Val Acc: 0.69933 loss: 1.00399\n",
            "saving model with acc 0.69933\n"
          ]
        },
        {
          "name": "stderr",
          "output_type": "stream",
          "text": [
            "100%|██████████| 6206/6206 [01:20<00:00, 77.28it/s]\n",
            "100%|██████████| 2064/2064 [00:07<00:00, 268.02it/s]\n"
          ]
        },
        {
          "name": "stdout",
          "output_type": "stream",
          "text": [
            "[005/100] Train Acc: 0.69500 Loss: 0.97302 | Val Acc: 0.70742 loss: 0.97681\n",
            "saving model with acc 0.70742\n"
          ]
        },
        {
          "name": "stderr",
          "output_type": "stream",
          "text": [
            "100%|██████████| 6206/6206 [01:17<00:00, 80.00it/s]\n",
            "100%|██████████| 2064/2064 [00:07<00:00, 272.01it/s]\n"
          ]
        },
        {
          "name": "stdout",
          "output_type": "stream",
          "text": [
            "[006/100] Train Acc: 0.70628 Loss: 0.93270 | Val Acc: 0.71264 loss: 0.97736\n",
            "saving model with acc 0.71264\n"
          ]
        },
        {
          "name": "stderr",
          "output_type": "stream",
          "text": [
            "100%|██████████| 6206/6206 [01:14<00:00, 82.85it/s]\n",
            "100%|██████████| 2064/2064 [00:08<00:00, 257.10it/s]\n"
          ]
        },
        {
          "name": "stdout",
          "output_type": "stream",
          "text": [
            "[007/100] Train Acc: 0.71651 Loss: 0.89837 | Val Acc: 0.71897 loss: 0.95860\n",
            "saving model with acc 0.71897\n"
          ]
        },
        {
          "name": "stderr",
          "output_type": "stream",
          "text": [
            "100%|██████████| 6206/6206 [01:16<00:00, 81.40it/s]\n",
            "100%|██████████| 2064/2064 [00:07<00:00, 261.43it/s]\n"
          ]
        },
        {
          "name": "stdout",
          "output_type": "stream",
          "text": [
            "[008/100] Train Acc: 0.72457 Loss: 0.86925 | Val Acc: 0.72126 loss: 0.96183\n",
            "saving model with acc 0.72126\n"
          ]
        },
        {
          "name": "stderr",
          "output_type": "stream",
          "text": [
            "100%|██████████| 6206/6206 [01:15<00:00, 82.04it/s]\n",
            "100%|██████████| 2064/2064 [00:08<00:00, 257.52it/s]\n"
          ]
        },
        {
          "name": "stdout",
          "output_type": "stream",
          "text": [
            "[009/100] Train Acc: 0.73202 Loss: 0.84415 | Val Acc: 0.72537 loss: 0.95709\n",
            "saving model with acc 0.72537\n"
          ]
        },
        {
          "name": "stderr",
          "output_type": "stream",
          "text": [
            "100%|██████████| 6206/6206 [01:15<00:00, 82.33it/s]\n",
            "100%|██████████| 2064/2064 [00:08<00:00, 256.98it/s]\n"
          ]
        },
        {
          "name": "stdout",
          "output_type": "stream",
          "text": [
            "[010/100] Train Acc: 0.73921 Loss: 0.81991 | Val Acc: 0.72892 loss: 0.95761\n",
            "saving model with acc 0.72892\n"
          ]
        },
        {
          "name": "stderr",
          "output_type": "stream",
          "text": [
            "100%|██████████| 6206/6206 [01:15<00:00, 81.99it/s]\n",
            "100%|██████████| 2064/2064 [00:07<00:00, 278.92it/s]\n"
          ]
        },
        {
          "name": "stdout",
          "output_type": "stream",
          "text": [
            "[011/100] Train Acc: 0.74486 Loss: 0.79999 | Val Acc: 0.73183 loss: 0.95550\n",
            "saving model with acc 0.73183\n"
          ]
        },
        {
          "name": "stderr",
          "output_type": "stream",
          "text": [
            "100%|██████████| 6206/6206 [01:15<00:00, 82.35it/s]\n",
            "100%|██████████| 2064/2064 [00:07<00:00, 265.06it/s]\n"
          ]
        },
        {
          "name": "stdout",
          "output_type": "stream",
          "text": [
            "[012/100] Train Acc: 0.74997 Loss: 0.78169 | Val Acc: 0.73284 loss: 0.95578\n",
            "saving model with acc 0.73284\n"
          ]
        },
        {
          "name": "stderr",
          "output_type": "stream",
          "text": [
            "100%|██████████| 6206/6206 [01:12<00:00, 85.74it/s]\n",
            "100%|██████████| 2064/2064 [00:07<00:00, 275.16it/s]\n"
          ]
        },
        {
          "name": "stdout",
          "output_type": "stream",
          "text": [
            "[013/100] Train Acc: 0.75500 Loss: 0.76354 | Val Acc: 0.73562 loss: 0.95277\n",
            "saving model with acc 0.73562\n"
          ]
        },
        {
          "name": "stderr",
          "output_type": "stream",
          "text": [
            "100%|██████████| 6206/6206 [01:10<00:00, 88.08it/s]\n",
            "100%|██████████| 2064/2064 [00:06<00:00, 296.98it/s]\n"
          ]
        },
        {
          "name": "stdout",
          "output_type": "stream",
          "text": [
            "[014/100] Train Acc: 0.75982 Loss: 0.74811 | Val Acc: 0.73731 loss: 0.95142\n",
            "saving model with acc 0.73731\n"
          ]
        },
        {
          "name": "stderr",
          "output_type": "stream",
          "text": [
            "100%|██████████| 6206/6206 [01:09<00:00, 89.05it/s]\n",
            "100%|██████████| 2064/2064 [00:06<00:00, 300.19it/s]\n"
          ]
        },
        {
          "name": "stdout",
          "output_type": "stream",
          "text": [
            "[015/100] Train Acc: 0.76420 Loss: 0.73224 | Val Acc: 0.73996 loss: 0.95787\n",
            "saving model with acc 0.73996\n"
          ]
        },
        {
          "name": "stderr",
          "output_type": "stream",
          "text": [
            "100%|██████████| 6206/6206 [01:09<00:00, 88.82it/s]\n",
            "100%|██████████| 2064/2064 [00:06<00:00, 298.61it/s]\n"
          ]
        },
        {
          "name": "stdout",
          "output_type": "stream",
          "text": [
            "[016/100] Train Acc: 0.76845 Loss: 0.71895 | Val Acc: 0.73974 loss: 0.95738\n"
          ]
        },
        {
          "name": "stderr",
          "output_type": "stream",
          "text": [
            "100%|██████████| 6206/6206 [01:09<00:00, 89.81it/s]\n",
            "100%|██████████| 2064/2064 [00:07<00:00, 292.83it/s]\n"
          ]
        },
        {
          "name": "stdout",
          "output_type": "stream",
          "text": [
            "[017/100] Train Acc: 0.77238 Loss: 0.70471 | Val Acc: 0.74118 loss: 0.95983\n",
            "saving model with acc 0.74118\n"
          ]
        },
        {
          "name": "stderr",
          "output_type": "stream",
          "text": [
            "100%|██████████| 6206/6206 [01:08<00:00, 91.13it/s]\n",
            "100%|██████████| 2064/2064 [00:06<00:00, 297.15it/s]\n"
          ]
        },
        {
          "name": "stdout",
          "output_type": "stream",
          "text": [
            "[018/100] Train Acc: 0.77596 Loss: 0.69324 | Val Acc: 0.74255 loss: 0.98029\n",
            "saving model with acc 0.74255\n"
          ]
        },
        {
          "name": "stderr",
          "output_type": "stream",
          "text": [
            "100%|██████████| 6206/6206 [01:12<00:00, 86.16it/s] \n",
            "100%|██████████| 2064/2064 [00:07<00:00, 258.65it/s]\n"
          ]
        },
        {
          "name": "stdout",
          "output_type": "stream",
          "text": [
            "[019/100] Train Acc: 0.77921 Loss: 0.68089 | Val Acc: 0.74331 loss: 0.97008\n",
            "saving model with acc 0.74331\n"
          ]
        },
        {
          "name": "stderr",
          "output_type": "stream",
          "text": [
            "100%|██████████| 6206/6206 [01:16<00:00, 80.88it/s]\n",
            "100%|██████████| 2064/2064 [00:07<00:00, 262.64it/s]\n"
          ]
        },
        {
          "name": "stdout",
          "output_type": "stream",
          "text": [
            "[020/100] Train Acc: 0.78201 Loss: 0.67135 | Val Acc: 0.74390 loss: 0.97751\n",
            "saving model with acc 0.74390\n"
          ]
        },
        {
          "name": "stderr",
          "output_type": "stream",
          "text": [
            "100%|██████████| 6206/6206 [01:17<00:00, 80.54it/s]\n",
            "100%|██████████| 2064/2064 [00:07<00:00, 278.73it/s]\n"
          ]
        },
        {
          "name": "stdout",
          "output_type": "stream",
          "text": [
            "[021/100] Train Acc: 0.78495 Loss: 0.66017 | Val Acc: 0.74434 loss: 0.98255\n",
            "saving model with acc 0.74434\n"
          ]
        },
        {
          "name": "stderr",
          "output_type": "stream",
          "text": [
            "100%|██████████| 6206/6206 [01:17<00:00, 79.65it/s]\n",
            "100%|██████████| 2064/2064 [00:07<00:00, 259.92it/s]\n"
          ]
        },
        {
          "name": "stdout",
          "output_type": "stream",
          "text": [
            "[022/100] Train Acc: 0.78817 Loss: 0.65034 | Val Acc: 0.74581 loss: 0.98716\n",
            "saving model with acc 0.74581\n"
          ]
        },
        {
          "name": "stderr",
          "output_type": "stream",
          "text": [
            "100%|██████████| 6206/6206 [01:15<00:00, 82.24it/s]\n",
            "100%|██████████| 2064/2064 [00:07<00:00, 264.62it/s]\n"
          ]
        },
        {
          "name": "stdout",
          "output_type": "stream",
          "text": [
            "[023/100] Train Acc: 0.79115 Loss: 0.64005 | Val Acc: 0.74584 loss: 0.99616\n",
            "saving model with acc 0.74584\n"
          ]
        },
        {
          "name": "stderr",
          "output_type": "stream",
          "text": [
            "100%|██████████| 6206/6206 [01:15<00:00, 82.16it/s]\n",
            "100%|██████████| 2064/2064 [00:07<00:00, 263.75it/s]\n"
          ]
        },
        {
          "name": "stdout",
          "output_type": "stream",
          "text": [
            "[024/100] Train Acc: 0.79366 Loss: 0.63222 | Val Acc: 0.74677 loss: 1.01601\n",
            "saving model with acc 0.74677\n"
          ]
        },
        {
          "name": "stderr",
          "output_type": "stream",
          "text": [
            "100%|██████████| 6206/6206 [01:14<00:00, 83.10it/s]\n",
            "100%|██████████| 2064/2064 [00:08<00:00, 256.33it/s]\n"
          ]
        },
        {
          "name": "stdout",
          "output_type": "stream",
          "text": [
            "[025/100] Train Acc: 0.79621 Loss: 0.62332 | Val Acc: 0.74746 loss: 1.00353\n",
            "saving model with acc 0.74746\n"
          ]
        },
        {
          "name": "stderr",
          "output_type": "stream",
          "text": [
            "100%|██████████| 6206/6206 [01:17<00:00, 80.55it/s]\n",
            "100%|██████████| 2064/2064 [00:07<00:00, 258.96it/s]\n"
          ]
        },
        {
          "name": "stdout",
          "output_type": "stream",
          "text": [
            "[026/100] Train Acc: 0.79865 Loss: 0.61561 | Val Acc: 0.74715 loss: 1.01471\n"
          ]
        },
        {
          "name": "stderr",
          "output_type": "stream",
          "text": [
            "100%|██████████| 6206/6206 [01:17<00:00, 80.35it/s]\n",
            "100%|██████████| 2064/2064 [00:07<00:00, 261.66it/s]\n"
          ]
        },
        {
          "name": "stdout",
          "output_type": "stream",
          "text": [
            "[027/100] Train Acc: 0.80070 Loss: 0.60805 | Val Acc: 0.74740 loss: 1.01192\n"
          ]
        },
        {
          "name": "stderr",
          "output_type": "stream",
          "text": [
            "100%|██████████| 6206/6206 [01:17<00:00, 80.02it/s]\n",
            "100%|██████████| 2064/2064 [00:08<00:00, 234.20it/s]\n"
          ]
        },
        {
          "name": "stdout",
          "output_type": "stream",
          "text": [
            "[028/100] Train Acc: 0.80288 Loss: 0.60053 | Val Acc: 0.74852 loss: 1.01452\n",
            "saving model with acc 0.74852\n"
          ]
        },
        {
          "name": "stderr",
          "output_type": "stream",
          "text": [
            "100%|██████████| 6206/6206 [01:18<00:00, 79.17it/s]\n",
            "100%|██████████| 2064/2064 [00:08<00:00, 238.78it/s]\n"
          ]
        },
        {
          "name": "stdout",
          "output_type": "stream",
          "text": [
            "[029/100] Train Acc: 0.80463 Loss: 0.59399 | Val Acc: 0.74912 loss: 1.02877\n",
            "saving model with acc 0.74912\n"
          ]
        },
        {
          "name": "stderr",
          "output_type": "stream",
          "text": [
            "100%|██████████| 6206/6206 [01:20<00:00, 77.39it/s]\n",
            "100%|██████████| 2064/2064 [00:08<00:00, 240.50it/s]\n"
          ]
        },
        {
          "name": "stdout",
          "output_type": "stream",
          "text": [
            "[030/100] Train Acc: 0.80714 Loss: 0.58585 | Val Acc: 0.74893 loss: 1.03087\n"
          ]
        },
        {
          "name": "stderr",
          "output_type": "stream",
          "text": [
            "100%|██████████| 6206/6206 [01:22<00:00, 75.38it/s]\n",
            "100%|██████████| 2064/2064 [00:08<00:00, 241.32it/s]\n"
          ]
        },
        {
          "name": "stdout",
          "output_type": "stream",
          "text": [
            "[031/100] Train Acc: 0.80857 Loss: 0.58051 | Val Acc: 0.74994 loss: 1.02663\n",
            "saving model with acc 0.74994\n"
          ]
        },
        {
          "name": "stderr",
          "output_type": "stream",
          "text": [
            "100%|██████████| 6206/6206 [01:21<00:00, 76.42it/s]\n",
            "100%|██████████| 2064/2064 [00:08<00:00, 231.47it/s]\n"
          ]
        },
        {
          "name": "stdout",
          "output_type": "stream",
          "text": [
            "[032/100] Train Acc: 0.81095 Loss: 0.57318 | Val Acc: 0.74945 loss: 1.02736\n"
          ]
        },
        {
          "name": "stderr",
          "output_type": "stream",
          "text": [
            "100%|██████████| 6206/6206 [01:21<00:00, 76.01it/s]\n",
            "100%|██████████| 2064/2064 [00:08<00:00, 241.04it/s]\n"
          ]
        },
        {
          "name": "stdout",
          "output_type": "stream",
          "text": [
            "[033/100] Train Acc: 0.81290 Loss: 0.56685 | Val Acc: 0.74978 loss: 1.04189\n"
          ]
        },
        {
          "name": "stderr",
          "output_type": "stream",
          "text": [
            "100%|██████████| 6206/6206 [01:18<00:00, 78.74it/s]\n",
            "100%|██████████| 2064/2064 [00:08<00:00, 245.07it/s]\n"
          ]
        },
        {
          "name": "stdout",
          "output_type": "stream",
          "text": [
            "[034/100] Train Acc: 0.81454 Loss: 0.56159 | Val Acc: 0.75050 loss: 1.04716\n",
            "saving model with acc 0.75050\n"
          ]
        },
        {
          "name": "stderr",
          "output_type": "stream",
          "text": [
            "100%|██████████| 6206/6206 [01:19<00:00, 78.27it/s]\n",
            "100%|██████████| 2064/2064 [00:08<00:00, 256.21it/s]\n"
          ]
        },
        {
          "name": "stdout",
          "output_type": "stream",
          "text": [
            "[035/100] Train Acc: 0.81592 Loss: 0.55575 | Val Acc: 0.75087 loss: 1.06155\n",
            "saving model with acc 0.75087\n"
          ]
        },
        {
          "name": "stderr",
          "output_type": "stream",
          "text": [
            "100%|██████████| 6206/6206 [01:18<00:00, 79.27it/s]\n",
            "100%|██████████| 2064/2064 [00:08<00:00, 236.83it/s]\n"
          ]
        },
        {
          "name": "stdout",
          "output_type": "stream",
          "text": [
            "[036/100] Train Acc: 0.81775 Loss: 0.55028 | Val Acc: 0.75026 loss: 1.06002\n"
          ]
        },
        {
          "name": "stderr",
          "output_type": "stream",
          "text": [
            "100%|██████████| 6206/6206 [01:21<00:00, 76.10it/s]\n",
            "100%|██████████| 2064/2064 [00:08<00:00, 236.09it/s]\n"
          ]
        },
        {
          "name": "stdout",
          "output_type": "stream",
          "text": [
            "[037/100] Train Acc: 0.81939 Loss: 0.54495 | Val Acc: 0.74977 loss: 1.07007\n"
          ]
        },
        {
          "name": "stderr",
          "output_type": "stream",
          "text": [
            "100%|██████████| 6206/6206 [01:20<00:00, 77.04it/s]\n",
            "100%|██████████| 2064/2064 [00:08<00:00, 241.21it/s]\n"
          ]
        },
        {
          "name": "stdout",
          "output_type": "stream",
          "text": [
            "[038/100] Train Acc: 0.82050 Loss: 0.54062 | Val Acc: 0.74991 loss: 1.06998\n"
          ]
        },
        {
          "name": "stderr",
          "output_type": "stream",
          "text": [
            "100%|██████████| 6206/6206 [01:19<00:00, 77.91it/s]\n",
            "100%|██████████| 2064/2064 [00:08<00:00, 231.49it/s]\n"
          ]
        },
        {
          "name": "stdout",
          "output_type": "stream",
          "text": [
            "[039/100] Train Acc: 0.82269 Loss: 0.53490 | Val Acc: 0.75142 loss: 1.07656\n",
            "saving model with acc 0.75142\n"
          ]
        },
        {
          "name": "stderr",
          "output_type": "stream",
          "text": [
            "100%|██████████| 6206/6206 [01:19<00:00, 78.37it/s]\n",
            "100%|██████████| 2064/2064 [00:08<00:00, 234.15it/s]\n"
          ]
        },
        {
          "name": "stdout",
          "output_type": "stream",
          "text": [
            "[040/100] Train Acc: 0.82353 Loss: 0.53070 | Val Acc: 0.75198 loss: 1.07637\n",
            "saving model with acc 0.75198\n"
          ]
        },
        {
          "name": "stderr",
          "output_type": "stream",
          "text": [
            "100%|██████████| 6206/6206 [01:19<00:00, 78.43it/s]\n",
            "100%|██████████| 2064/2064 [00:08<00:00, 235.05it/s]\n"
          ]
        },
        {
          "name": "stdout",
          "output_type": "stream",
          "text": [
            "[041/100] Train Acc: 0.82511 Loss: 0.52489 | Val Acc: 0.75161 loss: 1.08436\n"
          ]
        },
        {
          "name": "stderr",
          "output_type": "stream",
          "text": [
            "100%|██████████| 6206/6206 [01:22<00:00, 75.63it/s]\n",
            "100%|██████████| 2064/2064 [00:08<00:00, 235.03it/s]\n"
          ]
        },
        {
          "name": "stdout",
          "output_type": "stream",
          "text": [
            "[042/100] Train Acc: 0.82637 Loss: 0.52078 | Val Acc: 0.75091 loss: 1.09167\n"
          ]
        },
        {
          "name": "stderr",
          "output_type": "stream",
          "text": [
            "100%|██████████| 6206/6206 [01:22<00:00, 75.25it/s]\n",
            "100%|██████████| 2064/2064 [00:08<00:00, 236.26it/s]\n"
          ]
        },
        {
          "name": "stdout",
          "output_type": "stream",
          "text": [
            "[043/100] Train Acc: 0.82776 Loss: 0.51714 | Val Acc: 0.75212 loss: 1.08295\n",
            "saving model with acc 0.75212\n"
          ]
        },
        {
          "name": "stderr",
          "output_type": "stream",
          "text": [
            "100%|██████████| 6206/6206 [01:21<00:00, 76.32it/s]\n",
            "100%|██████████| 2064/2064 [00:07<00:00, 259.92it/s]\n"
          ]
        },
        {
          "name": "stdout",
          "output_type": "stream",
          "text": [
            "[044/100] Train Acc: 0.82914 Loss: 0.51277 | Val Acc: 0.75169 loss: 1.09685\n"
          ]
        },
        {
          "name": "stderr",
          "output_type": "stream",
          "text": [
            "100%|██████████| 6206/6206 [01:14<00:00, 83.65it/s]\n",
            "100%|██████████| 2064/2064 [00:07<00:00, 268.92it/s]\n"
          ]
        },
        {
          "name": "stdout",
          "output_type": "stream",
          "text": [
            "[045/100] Train Acc: 0.83037 Loss: 0.50839 | Val Acc: 0.75238 loss: 1.09906\n",
            "saving model with acc 0.75238\n"
          ]
        },
        {
          "name": "stderr",
          "output_type": "stream",
          "text": [
            "100%|██████████| 6206/6206 [01:15<00:00, 82.19it/s]\n",
            "100%|██████████| 2064/2064 [00:07<00:00, 268.75it/s]\n"
          ]
        },
        {
          "name": "stdout",
          "output_type": "stream",
          "text": [
            "[046/100] Train Acc: 0.83145 Loss: 0.50429 | Val Acc: 0.75185 loss: 1.11141\n"
          ]
        },
        {
          "name": "stderr",
          "output_type": "stream",
          "text": [
            "100%|██████████| 6206/6206 [01:09<00:00, 89.03it/s]\n",
            "100%|██████████| 2064/2064 [00:06<00:00, 297.84it/s]\n"
          ]
        },
        {
          "name": "stdout",
          "output_type": "stream",
          "text": [
            "[047/100] Train Acc: 0.83268 Loss: 0.50015 | Val Acc: 0.75317 loss: 1.10683\n",
            "saving model with acc 0.75317\n"
          ]
        },
        {
          "name": "stderr",
          "output_type": "stream",
          "text": [
            "100%|██████████| 6206/6206 [01:16<00:00, 80.78it/s]\n",
            "100%|██████████| 2064/2064 [00:07<00:00, 287.63it/s]\n"
          ]
        },
        {
          "name": "stdout",
          "output_type": "stream",
          "text": [
            "[048/100] Train Acc: 0.83375 Loss: 0.49647 | Val Acc: 0.75224 loss: 1.11961\n"
          ]
        },
        {
          "name": "stderr",
          "output_type": "stream",
          "text": [
            "100%|██████████| 6206/6206 [01:11<00:00, 86.75it/s]\n",
            "100%|██████████| 2064/2064 [00:06<00:00, 298.57it/s]\n"
          ]
        },
        {
          "name": "stdout",
          "output_type": "stream",
          "text": [
            "[049/100] Train Acc: 0.83505 Loss: 0.49328 | Val Acc: 0.75259 loss: 1.12252\n"
          ]
        },
        {
          "name": "stderr",
          "output_type": "stream",
          "text": [
            "100%|██████████| 6206/6206 [01:09<00:00, 89.12it/s]\n",
            "100%|██████████| 2064/2064 [00:07<00:00, 292.97it/s]\n"
          ]
        },
        {
          "name": "stdout",
          "output_type": "stream",
          "text": [
            "[050/100] Train Acc: 0.83568 Loss: 0.49025 | Val Acc: 0.75217 loss: 1.12859\n"
          ]
        },
        {
          "name": "stderr",
          "output_type": "stream",
          "text": [
            "100%|██████████| 6206/6206 [01:07<00:00, 91.46it/s]\n",
            "100%|██████████| 2064/2064 [00:06<00:00, 296.06it/s]\n"
          ]
        },
        {
          "name": "stdout",
          "output_type": "stream",
          "text": [
            "[051/100] Train Acc: 0.83681 Loss: 0.48673 | Val Acc: 0.75240 loss: 1.12393\n"
          ]
        },
        {
          "name": "stderr",
          "output_type": "stream",
          "text": [
            "100%|██████████| 6206/6206 [01:08<00:00, 89.98it/s]\n",
            "100%|██████████| 2064/2064 [00:06<00:00, 296.69it/s]\n"
          ]
        },
        {
          "name": "stdout",
          "output_type": "stream",
          "text": [
            "[052/100] Train Acc: 0.83796 Loss: 0.48286 | Val Acc: 0.75252 loss: 1.13860\n"
          ]
        },
        {
          "name": "stderr",
          "output_type": "stream",
          "text": [
            "100%|██████████| 6206/6206 [01:09<00:00, 89.39it/s]\n",
            "100%|██████████| 2064/2064 [00:06<00:00, 298.02it/s]\n"
          ]
        },
        {
          "name": "stdout",
          "output_type": "stream",
          "text": [
            "[053/100] Train Acc: 0.83914 Loss: 0.47867 | Val Acc: 0.75260 loss: 1.13684\n"
          ]
        },
        {
          "name": "stderr",
          "output_type": "stream",
          "text": [
            "100%|██████████| 6206/6206 [01:09<00:00, 88.75it/s]\n",
            "100%|██████████| 2064/2064 [00:06<00:00, 296.81it/s]\n"
          ]
        },
        {
          "name": "stdout",
          "output_type": "stream",
          "text": [
            "[054/100] Train Acc: 0.83969 Loss: 0.47665 | Val Acc: 0.75367 loss: 1.13611\n",
            "saving model with acc 0.75367\n"
          ]
        },
        {
          "name": "stderr",
          "output_type": "stream",
          "text": [
            "100%|██████████| 6206/6206 [01:09<00:00, 88.98it/s]\n",
            "100%|██████████| 2064/2064 [00:06<00:00, 299.48it/s]\n"
          ]
        },
        {
          "name": "stdout",
          "output_type": "stream",
          "text": [
            "[055/100] Train Acc: 0.84084 Loss: 0.47327 | Val Acc: 0.75275 loss: 1.14524\n"
          ]
        },
        {
          "name": "stderr",
          "output_type": "stream",
          "text": [
            "100%|██████████| 6206/6206 [01:09<00:00, 89.16it/s]\n",
            "100%|██████████| 2064/2064 [00:06<00:00, 299.80it/s]\n"
          ]
        },
        {
          "name": "stdout",
          "output_type": "stream",
          "text": [
            "[056/100] Train Acc: 0.84178 Loss: 0.47015 | Val Acc: 0.75324 loss: 1.16363\n"
          ]
        },
        {
          "name": "stderr",
          "output_type": "stream",
          "text": [
            "100%|██████████| 6206/6206 [01:07<00:00, 91.54it/s]\n",
            "100%|██████████| 2064/2064 [00:06<00:00, 297.88it/s]\n"
          ]
        },
        {
          "name": "stdout",
          "output_type": "stream",
          "text": [
            "[057/100] Train Acc: 0.84266 Loss: 0.46693 | Val Acc: 0.75268 loss: 1.15707\n"
          ]
        },
        {
          "name": "stderr",
          "output_type": "stream",
          "text": [
            "100%|██████████| 6206/6206 [01:08<00:00, 90.08it/s]\n",
            "100%|██████████| 2064/2064 [00:06<00:00, 299.69it/s]\n"
          ]
        },
        {
          "name": "stdout",
          "output_type": "stream",
          "text": [
            "[058/100] Train Acc: 0.84374 Loss: 0.46438 | Val Acc: 0.75201 loss: 1.17486\n"
          ]
        },
        {
          "name": "stderr",
          "output_type": "stream",
          "text": [
            "100%|██████████| 6206/6206 [01:09<00:00, 89.16it/s]\n",
            "100%|██████████| 2064/2064 [00:06<00:00, 298.48it/s]\n"
          ]
        },
        {
          "name": "stdout",
          "output_type": "stream",
          "text": [
            "[059/100] Train Acc: 0.84441 Loss: 0.46198 | Val Acc: 0.75366 loss: 1.16948\n"
          ]
        },
        {
          "name": "stderr",
          "output_type": "stream",
          "text": [
            "100%|██████████| 6206/6206 [01:09<00:00, 89.11it/s]\n",
            "100%|██████████| 2064/2064 [00:06<00:00, 297.19it/s]\n"
          ]
        },
        {
          "name": "stdout",
          "output_type": "stream",
          "text": [
            "[060/100] Train Acc: 0.84494 Loss: 0.45947 | Val Acc: 0.75216 loss: 1.17158\n"
          ]
        },
        {
          "name": "stderr",
          "output_type": "stream",
          "text": [
            "100%|██████████| 6206/6206 [01:09<00:00, 88.78it/s]\n",
            "100%|██████████| 2064/2064 [00:06<00:00, 300.04it/s]\n"
          ]
        },
        {
          "name": "stdout",
          "output_type": "stream",
          "text": [
            "[061/100] Train Acc: 0.84622 Loss: 0.45590 | Val Acc: 0.75384 loss: 1.16535\n",
            "saving model with acc 0.75384\n"
          ]
        },
        {
          "name": "stderr",
          "output_type": "stream",
          "text": [
            "100%|██████████| 6206/6206 [01:09<00:00, 89.01it/s]\n",
            "100%|██████████| 2064/2064 [00:06<00:00, 299.09it/s]\n"
          ]
        },
        {
          "name": "stdout",
          "output_type": "stream",
          "text": [
            "[062/100] Train Acc: 0.84681 Loss: 0.45405 | Val Acc: 0.75325 loss: 1.18013\n"
          ]
        },
        {
          "name": "stderr",
          "output_type": "stream",
          "text": [
            "100%|██████████| 6206/6206 [01:07<00:00, 91.56it/s]\n",
            "100%|██████████| 2064/2064 [00:06<00:00, 297.96it/s]\n"
          ]
        },
        {
          "name": "stdout",
          "output_type": "stream",
          "text": [
            "[063/100] Train Acc: 0.84755 Loss: 0.45049 | Val Acc: 0.75279 loss: 1.17961\n"
          ]
        },
        {
          "name": "stderr",
          "output_type": "stream",
          "text": [
            "100%|██████████| 6206/6206 [01:08<00:00, 90.13it/s]\n",
            "100%|██████████| 2064/2064 [00:06<00:00, 297.75it/s]\n"
          ]
        },
        {
          "name": "stdout",
          "output_type": "stream",
          "text": [
            "[064/100] Train Acc: 0.84818 Loss: 0.44833 | Val Acc: 0.75255 loss: 1.18833\n"
          ]
        },
        {
          "name": "stderr",
          "output_type": "stream",
          "text": [
            "100%|██████████| 6206/6206 [01:09<00:00, 89.56it/s]\n",
            "100%|██████████| 2064/2064 [00:06<00:00, 297.58it/s]\n"
          ]
        },
        {
          "name": "stdout",
          "output_type": "stream",
          "text": [
            "[065/100] Train Acc: 0.84897 Loss: 0.44607 | Val Acc: 0.75322 loss: 1.19899\n"
          ]
        },
        {
          "name": "stderr",
          "output_type": "stream",
          "text": [
            "100%|██████████| 6206/6206 [01:11<00:00, 87.34it/s]\n",
            "100%|██████████| 2064/2064 [00:06<00:00, 300.52it/s]\n"
          ]
        },
        {
          "name": "stdout",
          "output_type": "stream",
          "text": [
            "[066/100] Train Acc: 0.84953 Loss: 0.44394 | Val Acc: 0.75281 loss: 1.19108\n"
          ]
        },
        {
          "name": "stderr",
          "output_type": "stream",
          "text": [
            "100%|██████████| 6206/6206 [01:09<00:00, 88.94it/s]\n",
            "100%|██████████| 2064/2064 [00:06<00:00, 300.44it/s]\n"
          ]
        },
        {
          "name": "stdout",
          "output_type": "stream",
          "text": [
            "[067/100] Train Acc: 0.85035 Loss: 0.44205 | Val Acc: 0.75387 loss: 1.20292\n",
            "saving model with acc 0.75387\n"
          ]
        },
        {
          "name": "stderr",
          "output_type": "stream",
          "text": [
            "100%|██████████| 6206/6206 [01:09<00:00, 89.19it/s]\n",
            "100%|██████████| 2064/2064 [00:06<00:00, 298.93it/s]\n"
          ]
        },
        {
          "name": "stdout",
          "output_type": "stream",
          "text": [
            "[068/100] Train Acc: 0.85108 Loss: 0.43869 | Val Acc: 0.75294 loss: 1.21028\n"
          ]
        },
        {
          "name": "stderr",
          "output_type": "stream",
          "text": [
            "100%|██████████| 6206/6206 [01:07<00:00, 91.60it/s]\n",
            "100%|██████████| 2064/2064 [00:06<00:00, 296.85it/s]\n"
          ]
        },
        {
          "name": "stdout",
          "output_type": "stream",
          "text": [
            "[069/100] Train Acc: 0.85168 Loss: 0.43639 | Val Acc: 0.75320 loss: 1.19703\n"
          ]
        },
        {
          "name": "stderr",
          "output_type": "stream",
          "text": [
            "100%|██████████| 6206/6206 [01:08<00:00, 90.27it/s]\n",
            "100%|██████████| 2064/2064 [00:06<00:00, 296.42it/s]\n"
          ]
        },
        {
          "name": "stdout",
          "output_type": "stream",
          "text": [
            "[070/100] Train Acc: 0.85230 Loss: 0.43483 | Val Acc: 0.75352 loss: 1.20530\n"
          ]
        },
        {
          "name": "stderr",
          "output_type": "stream",
          "text": [
            "100%|██████████| 6206/6206 [01:09<00:00, 89.21it/s]\n",
            "100%|██████████| 2064/2064 [00:06<00:00, 295.24it/s]\n"
          ]
        },
        {
          "name": "stdout",
          "output_type": "stream",
          "text": [
            "[071/100] Train Acc: 0.85311 Loss: 0.43250 | Val Acc: 0.75419 loss: 1.20757\n",
            "saving model with acc 0.75419\n"
          ]
        },
        {
          "name": "stderr",
          "output_type": "stream",
          "text": [
            "100%|██████████| 6206/6206 [01:09<00:00, 89.47it/s]\n",
            "100%|██████████| 2064/2064 [00:06<00:00, 300.71it/s]\n"
          ]
        },
        {
          "name": "stdout",
          "output_type": "stream",
          "text": [
            "[072/100] Train Acc: 0.85410 Loss: 0.42974 | Val Acc: 0.75331 loss: 1.20386\n"
          ]
        },
        {
          "name": "stderr",
          "output_type": "stream",
          "text": [
            "100%|██████████| 6206/6206 [01:09<00:00, 88.79it/s]\n",
            "100%|██████████| 2064/2064 [00:06<00:00, 300.22it/s]\n"
          ]
        },
        {
          "name": "stdout",
          "output_type": "stream",
          "text": [
            "[073/100] Train Acc: 0.85452 Loss: 0.42778 | Val Acc: 0.75393 loss: 1.19912\n"
          ]
        },
        {
          "name": "stderr",
          "output_type": "stream",
          "text": [
            "100%|██████████| 6206/6206 [01:09<00:00, 89.13it/s]\n",
            "100%|██████████| 2064/2064 [00:06<00:00, 297.58it/s]\n"
          ]
        },
        {
          "name": "stdout",
          "output_type": "stream",
          "text": [
            "[074/100] Train Acc: 0.85510 Loss: 0.42565 | Val Acc: 0.75388 loss: 1.21633\n"
          ]
        },
        {
          "name": "stderr",
          "output_type": "stream",
          "text": [
            "100%|██████████| 6206/6206 [01:09<00:00, 89.61it/s]\n",
            "100%|██████████| 2064/2064 [00:06<00:00, 295.24it/s]\n"
          ]
        },
        {
          "name": "stdout",
          "output_type": "stream",
          "text": [
            "[075/100] Train Acc: 0.85556 Loss: 0.42421 | Val Acc: 0.75346 loss: 1.21356\n"
          ]
        },
        {
          "name": "stderr",
          "output_type": "stream",
          "text": [
            "100%|██████████| 6206/6206 [01:17<00:00, 80.21it/s]\n",
            "100%|██████████| 2064/2064 [00:07<00:00, 259.00it/s]\n"
          ]
        },
        {
          "name": "stdout",
          "output_type": "stream",
          "text": [
            "[076/100] Train Acc: 0.85687 Loss: 0.41989 | Val Acc: 0.75349 loss: 1.22226\n"
          ]
        },
        {
          "name": "stderr",
          "output_type": "stream",
          "text": [
            "100%|██████████| 6206/6206 [01:14<00:00, 83.64it/s]\n",
            "100%|██████████| 2064/2064 [00:08<00:00, 256.43it/s]\n"
          ]
        },
        {
          "name": "stdout",
          "output_type": "stream",
          "text": [
            "[077/100] Train Acc: 0.85711 Loss: 0.41911 | Val Acc: 0.75315 loss: 1.22557\n"
          ]
        },
        {
          "name": "stderr",
          "output_type": "stream",
          "text": [
            "100%|██████████| 6206/6206 [01:14<00:00, 83.31it/s]\n",
            "100%|██████████| 2064/2064 [00:08<00:00, 249.40it/s]\n"
          ]
        },
        {
          "name": "stdout",
          "output_type": "stream",
          "text": [
            "[078/100] Train Acc: 0.85746 Loss: 0.41789 | Val Acc: 0.75343 loss: 1.22810\n"
          ]
        },
        {
          "name": "stderr",
          "output_type": "stream",
          "text": [
            "100%|██████████| 6206/6206 [01:17<00:00, 79.94it/s]\n",
            "100%|██████████| 2064/2064 [00:08<00:00, 256.91it/s]\n"
          ]
        },
        {
          "name": "stdout",
          "output_type": "stream",
          "text": [
            "[079/100] Train Acc: 0.85823 Loss: 0.41520 | Val Acc: 0.75342 loss: 1.23410\n"
          ]
        },
        {
          "name": "stderr",
          "output_type": "stream",
          "text": [
            "100%|██████████| 6206/6206 [01:17<00:00, 79.61it/s]\n",
            "100%|██████████| 2064/2064 [00:07<00:00, 259.64it/s]\n"
          ]
        },
        {
          "name": "stdout",
          "output_type": "stream",
          "text": [
            "[080/100] Train Acc: 0.85886 Loss: 0.41374 | Val Acc: 0.75316 loss: 1.23485\n"
          ]
        },
        {
          "name": "stderr",
          "output_type": "stream",
          "text": [
            "100%|██████████| 6206/6206 [01:17<00:00, 80.21it/s]\n",
            "100%|██████████| 2064/2064 [00:07<00:00, 259.30it/s]\n"
          ]
        },
        {
          "name": "stdout",
          "output_type": "stream",
          "text": [
            "[081/100] Train Acc: 0.85917 Loss: 0.41272 | Val Acc: 0.75358 loss: 1.24186\n"
          ]
        },
        {
          "name": "stderr",
          "output_type": "stream",
          "text": [
            "100%|██████████| 6206/6206 [01:15<00:00, 81.71it/s]\n",
            "100%|██████████| 2064/2064 [00:07<00:00, 277.44it/s]\n"
          ]
        },
        {
          "name": "stdout",
          "output_type": "stream",
          "text": [
            "[082/100] Train Acc: 0.86004 Loss: 0.41075 | Val Acc: 0.75375 loss: 1.24763\n"
          ]
        },
        {
          "name": "stderr",
          "output_type": "stream",
          "text": [
            "100%|██████████| 6206/6206 [01:13<00:00, 84.35it/s]\n",
            "100%|██████████| 2064/2064 [00:07<00:00, 282.08it/s]\n"
          ]
        },
        {
          "name": "stdout",
          "output_type": "stream",
          "text": [
            "[083/100] Train Acc: 0.86050 Loss: 0.40802 | Val Acc: 0.75330 loss: 1.24271\n"
          ]
        },
        {
          "name": "stderr",
          "output_type": "stream",
          "text": [
            "100%|██████████| 6206/6206 [01:13<00:00, 84.39it/s]\n",
            "100%|██████████| 2064/2064 [00:08<00:00, 256.97it/s]\n"
          ]
        },
        {
          "name": "stdout",
          "output_type": "stream",
          "text": [
            "[084/100] Train Acc: 0.86092 Loss: 0.40672 | Val Acc: 0.75400 loss: 1.24961\n"
          ]
        },
        {
          "name": "stderr",
          "output_type": "stream",
          "text": [
            "100%|██████████| 6206/6206 [01:17<00:00, 79.96it/s]\n",
            "100%|██████████| 2064/2064 [00:08<00:00, 257.00it/s]\n"
          ]
        },
        {
          "name": "stdout",
          "output_type": "stream",
          "text": [
            "[085/100] Train Acc: 0.86129 Loss: 0.40538 | Val Acc: 0.75431 loss: 1.24765\n",
            "saving model with acc 0.75431\n"
          ]
        },
        {
          "name": "stderr",
          "output_type": "stream",
          "text": [
            "100%|██████████| 6206/6206 [01:17<00:00, 79.85it/s]\n",
            "100%|██████████| 2064/2064 [00:07<00:00, 261.13it/s]\n"
          ]
        },
        {
          "name": "stdout",
          "output_type": "stream",
          "text": [
            "[086/100] Train Acc: 0.86205 Loss: 0.40348 | Val Acc: 0.75386 loss: 1.25973\n"
          ]
        },
        {
          "name": "stderr",
          "output_type": "stream",
          "text": [
            "100%|██████████| 6206/6206 [01:17<00:00, 80.39it/s]\n",
            "100%|██████████| 2064/2064 [00:07<00:00, 286.99it/s]\n"
          ]
        },
        {
          "name": "stdout",
          "output_type": "stream",
          "text": [
            "[087/100] Train Acc: 0.86213 Loss: 0.40248 | Val Acc: 0.75437 loss: 1.24579\n",
            "saving model with acc 0.75437\n"
          ]
        },
        {
          "name": "stderr",
          "output_type": "stream",
          "text": [
            "100%|██████████| 6206/6206 [01:14<00:00, 83.74it/s]\n",
            "100%|██████████| 2064/2064 [00:07<00:00, 289.77it/s]\n"
          ]
        },
        {
          "name": "stdout",
          "output_type": "stream",
          "text": [
            "[088/100] Train Acc: 0.86287 Loss: 0.40069 | Val Acc: 0.75417 loss: 1.25297\n"
          ]
        },
        {
          "name": "stderr",
          "output_type": "stream",
          "text": [
            "100%|██████████| 6206/6206 [01:12<00:00, 85.07it/s]\n",
            "100%|██████████| 2064/2064 [00:07<00:00, 272.40it/s]\n"
          ]
        },
        {
          "name": "stdout",
          "output_type": "stream",
          "text": [
            "[089/100] Train Acc: 0.86373 Loss: 0.39872 | Val Acc: 0.75300 loss: 1.25727\n"
          ]
        },
        {
          "name": "stderr",
          "output_type": "stream",
          "text": [
            "100%|██████████| 6206/6206 [01:14<00:00, 83.00it/s]\n",
            "100%|██████████| 2064/2064 [00:07<00:00, 264.48it/s]\n"
          ]
        },
        {
          "name": "stdout",
          "output_type": "stream",
          "text": [
            "[090/100] Train Acc: 0.86405 Loss: 0.39659 | Val Acc: 0.75433 loss: 1.25976\n"
          ]
        },
        {
          "name": "stderr",
          "output_type": "stream",
          "text": [
            "100%|██████████| 6206/6206 [01:16<00:00, 80.68it/s]\n",
            "100%|██████████| 2064/2064 [00:07<00:00, 280.97it/s]\n"
          ]
        },
        {
          "name": "stdout",
          "output_type": "stream",
          "text": [
            "[091/100] Train Acc: 0.86466 Loss: 0.39542 | Val Acc: 0.75412 loss: 1.27644\n"
          ]
        },
        {
          "name": "stderr",
          "output_type": "stream",
          "text": [
            "100%|██████████| 6206/6206 [01:14<00:00, 82.80it/s]\n",
            "100%|██████████| 2064/2064 [00:07<00:00, 260.77it/s]\n"
          ]
        },
        {
          "name": "stdout",
          "output_type": "stream",
          "text": [
            "[092/100] Train Acc: 0.86485 Loss: 0.39413 | Val Acc: 0.75436 loss: 1.27030\n"
          ]
        },
        {
          "name": "stderr",
          "output_type": "stream",
          "text": [
            "100%|██████████| 6206/6206 [01:17<00:00, 80.58it/s]\n",
            "100%|██████████| 2064/2064 [00:08<00:00, 255.51it/s]\n"
          ]
        },
        {
          "name": "stdout",
          "output_type": "stream",
          "text": [
            "[093/100] Train Acc: 0.86532 Loss: 0.39228 | Val Acc: 0.75381 loss: 1.27111\n"
          ]
        },
        {
          "name": "stderr",
          "output_type": "stream",
          "text": [
            "100%|██████████| 6206/6206 [01:14<00:00, 83.14it/s]\n",
            "100%|██████████| 2064/2064 [00:07<00:00, 260.05it/s]\n"
          ]
        },
        {
          "name": "stdout",
          "output_type": "stream",
          "text": [
            "[094/100] Train Acc: 0.86583 Loss: 0.39119 | Val Acc: 0.75457 loss: 1.26943\n",
            "saving model with acc 0.75457\n"
          ]
        },
        {
          "name": "stderr",
          "output_type": "stream",
          "text": [
            "100%|██████████| 6206/6206 [01:14<00:00, 83.09it/s]\n",
            "100%|██████████| 2064/2064 [00:08<00:00, 256.71it/s]\n"
          ]
        },
        {
          "name": "stdout",
          "output_type": "stream",
          "text": [
            "[095/100] Train Acc: 0.86586 Loss: 0.39070 | Val Acc: 0.75424 loss: 1.26948\n"
          ]
        },
        {
          "name": "stderr",
          "output_type": "stream",
          "text": [
            "100%|██████████| 6206/6206 [01:17<00:00, 79.92it/s]\n",
            "100%|██████████| 2064/2064 [00:07<00:00, 262.90it/s]\n"
          ]
        },
        {
          "name": "stdout",
          "output_type": "stream",
          "text": [
            "[096/100] Train Acc: 0.86681 Loss: 0.38818 | Val Acc: 0.75374 loss: 1.26982\n"
          ]
        },
        {
          "name": "stderr",
          "output_type": "stream",
          "text": [
            "100%|██████████| 6206/6206 [01:17<00:00, 80.29it/s]\n",
            "100%|██████████| 2064/2064 [00:07<00:00, 263.10it/s]\n"
          ]
        },
        {
          "name": "stdout",
          "output_type": "stream",
          "text": [
            "[097/100] Train Acc: 0.86689 Loss: 0.38680 | Val Acc: 0.75495 loss: 1.27023\n",
            "saving model with acc 0.75495\n"
          ]
        },
        {
          "name": "stderr",
          "output_type": "stream",
          "text": [
            "100%|██████████| 6206/6206 [01:17<00:00, 80.55it/s]\n",
            "100%|██████████| 2064/2064 [00:08<00:00, 237.05it/s]\n"
          ]
        },
        {
          "name": "stdout",
          "output_type": "stream",
          "text": [
            "[098/100] Train Acc: 0.86742 Loss: 0.38576 | Val Acc: 0.75430 loss: 1.29095\n"
          ]
        },
        {
          "name": "stderr",
          "output_type": "stream",
          "text": [
            "100%|██████████| 6206/6206 [01:18<00:00, 78.78it/s]\n",
            "100%|██████████| 2064/2064 [00:08<00:00, 240.45it/s]\n"
          ]
        },
        {
          "name": "stdout",
          "output_type": "stream",
          "text": [
            "[099/100] Train Acc: 0.86798 Loss: 0.38362 | Val Acc: 0.75362 loss: 1.29497\n"
          ]
        },
        {
          "name": "stderr",
          "output_type": "stream",
          "text": [
            "100%|██████████| 6206/6206 [01:18<00:00, 79.36it/s]\n",
            "100%|██████████| 2064/2064 [00:08<00:00, 239.64it/s]"
          ]
        },
        {
          "name": "stdout",
          "output_type": "stream",
          "text": [
            "[100/100] Train Acc: 0.86842 Loss: 0.38340 | Val Acc: 0.75389 loss: 1.27399\n"
          ]
        },
        {
          "name": "stderr",
          "output_type": "stream",
          "text": [
            "\n"
          ]
        }
      ],
      "source": [
        "# create model, define a loss function, and optimizer\n",
        "model = Classifier(input_dim=input_dim, hidden_layers=hidden_layers, hidden_dim=hidden_dim).to(device)\n",
        "criterion = nn.CrossEntropyLoss() \n",
        "optimizer = torch.optim.Adam(model.parameters(), lr=learning_rate)\n",
        "\n",
        "best_acc = 0.0\n",
        "for epoch in range(num_epoch):\n",
        "    train_acc = 0.0\n",
        "    train_loss = 0.0\n",
        "    val_acc = 0.0\n",
        "    val_loss = 0.0\n",
        "    \n",
        "    # training\n",
        "    model.train() # set the model to training mode\n",
        "    for i, batch in enumerate(tqdm(train_loader)):\n",
        "        features, labels = batch\n",
        "        features = features.to(device)\n",
        "        labels = labels.to(device)\n",
        "        \n",
        "        optimizer.zero_grad() \n",
        "        outputs = model(features) \n",
        "        \n",
        "        loss = criterion(outputs, labels)\n",
        "        loss.backward() \n",
        "        optimizer.step() \n",
        "        \n",
        "        _, train_pred = torch.max(outputs, 1) # get the index of the class with the highest probability\n",
        "        train_acc += (train_pred.detach() == labels.detach()).sum().item()\n",
        "        train_loss += loss.item()\n",
        "    \n",
        "    # validation\n",
        "    model.eval() # set the model to evaluation mode\n",
        "    with torch.no_grad():\n",
        "        for i, batch in enumerate(tqdm(val_loader)):\n",
        "            features, labels = batch\n",
        "            features = features.to(device)\n",
        "            labels = labels.to(device)\n",
        "            outputs = model(features)\n",
        "            \n",
        "            loss = criterion(outputs, labels) \n",
        "            \n",
        "            _, val_pred = torch.max(outputs, 1) \n",
        "            val_acc += (val_pred.cpu() == labels.cpu()).sum().item() # get the index of the class with the highest probability\n",
        "            val_loss += loss.item()\n",
        "\n",
        "    print(f'[{epoch+1:03d}/{num_epoch:03d}] Train Acc: {train_acc/len(train_set):3.5f} Loss: {train_loss/len(train_loader):3.5f} | Val Acc: {val_acc/len(val_set):3.5f} loss: {val_loss/len(val_loader):3.5f}')\n",
        "\n",
        "    # if the model improves, save a checkpoint at this epoch\n",
        "    if val_acc > best_acc:\n",
        "        best_acc = val_acc\n",
        "        torch.save(model.state_dict(), model_path)\n",
        "        print(f'saving model with acc {best_acc/len(val_set):.5f}')\n"
      ]
    },
    {
      "cell_type": "code",
      "execution_count": 9,
      "metadata": {
        "id": "ab33MxosWLmG"
      },
      "outputs": [
        {
          "data": {
            "text/plain": [
              "0"
            ]
          },
          "execution_count": 9,
          "metadata": {},
          "output_type": "execute_result"
        }
      ],
      "source": [
        "del train_set, val_set\n",
        "del train_loader, val_loader\n",
        "gc.collect()"
      ]
    },
    {
      "cell_type": "markdown",
      "metadata": {
        "id": "1Hi7jTn3PX-m"
      },
      "source": [
        "# Testing\n",
        "Create a testing dataset, and load model from the saved checkpoint."
      ]
    },
    {
      "cell_type": "code",
      "execution_count": 10,
      "metadata": {
        "id": "VOG1Ou0PGrhc"
      },
      "outputs": [
        {
          "name": "stdout",
          "output_type": "stream",
          "text": [
            "[Dataset] - # phone classes: 41, number of utterances for test: 857\n"
          ]
        },
        {
          "name": "stderr",
          "output_type": "stream",
          "text": [
            "857it [00:08, 101.20it/s]"
          ]
        },
        {
          "name": "stdout",
          "output_type": "stream",
          "text": [
            "[INFO] test set\n",
            "torch.Size([527364, 975])\n"
          ]
        },
        {
          "name": "stderr",
          "output_type": "stream",
          "text": [
            "\n"
          ]
        }
      ],
      "source": [
        "# load data\n",
        "test_X = preprocess_data(split='test', feat_dir='./libriphone/feat', phone_path='./libriphone', concat_nframes=concat_nframes)\n",
        "test_set = LibriDataset(test_X, None)\n",
        "test_loader = DataLoader(test_set, batch_size=batch_size, shuffle=False)"
      ]
    },
    {
      "cell_type": "code",
      "execution_count": 11,
      "metadata": {
        "id": "ay0Fu8Ovkdad"
      },
      "outputs": [
        {
          "data": {
            "text/plain": [
              "<All keys matched successfully>"
            ]
          },
          "execution_count": 11,
          "metadata": {},
          "output_type": "execute_result"
        }
      ],
      "source": [
        "# load model\n",
        "model = Classifier(input_dim=input_dim, hidden_layers=hidden_layers, hidden_dim=hidden_dim).to(device)\n",
        "model.load_state_dict(torch.load(model_path))"
      ]
    },
    {
      "cell_type": "markdown",
      "metadata": {
        "id": "zp-DV1p4r7Nz"
      },
      "source": [
        "Make prediction."
      ]
    },
    {
      "cell_type": "code",
      "execution_count": 12,
      "metadata": {
        "id": "84HU5GGjPqR0"
      },
      "outputs": [
        {
          "name": "stderr",
          "output_type": "stream",
          "text": [
            "100%|██████████| 2061/2061 [00:08<00:00, 233.44it/s]\n"
          ]
        }
      ],
      "source": [
        "pred = np.array([], dtype=np.int32)\n",
        "\n",
        "model.eval()\n",
        "with torch.no_grad():\n",
        "    for i, batch in enumerate(tqdm(test_loader)):\n",
        "        features = batch\n",
        "        features = features.to(device)\n",
        "\n",
        "        outputs = model(features)\n",
        "\n",
        "        _, test_pred = torch.max(outputs, 1) # get the index of the class with the highest probability\n",
        "        pred = np.concatenate((pred, test_pred.cpu().numpy()), axis=0)\n"
      ]
    },
    {
      "cell_type": "markdown",
      "metadata": {
        "id": "wyZqy40Prz0v"
      },
      "source": [
        "Write prediction to a CSV file.\n",
        "\n",
        "After finish running this block, download the file `prediction.csv` from the files section on the left-hand side and submit it to Kaggle."
      ]
    },
    {
      "cell_type": "code",
      "execution_count": 13,
      "metadata": {
        "id": "GuljYSPHcZir"
      },
      "outputs": [],
      "source": [
        "with open('prediction.csv', 'w') as f:\n",
        "    f.write('Id,Class\\n')\n",
        "    for i, y in enumerate(pred):\n",
        "        f.write('{},{}\\n'.format(i, y))"
      ]
    }
  ],
  "metadata": {
    "accelerator": "GPU",
    "colab": {
      "provenance": []
    },
    "kernelspec": {
      "display_name": "Python 3",
      "name": "python3"
    },
    "language_info": {
      "codemirror_mode": {
        "name": "ipython",
        "version": 3
      },
      "file_extension": ".py",
      "mimetype": "text/x-python",
      "name": "python",
      "nbconvert_exporter": "python",
      "pygments_lexer": "ipython3",
      "version": "3.9.13"
    }
  },
  "nbformat": 4,
  "nbformat_minor": 0
}
